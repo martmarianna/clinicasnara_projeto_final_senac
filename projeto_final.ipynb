{
 "cells": [
  {
   "cell_type": "code",
   "execution_count": 1,
   "metadata": {},
   "outputs": [],
   "source": [
    "import pandas as pd\n",
    "import matplotlib.pyplot as plt\n",
    "import numpy as np"
   ]
  },
  {
   "cell_type": "code",
   "execution_count": 3,
   "metadata": {},
   "outputs": [],
   "source": [
    "df_avaliacoes = pd.read_csv ('avaliacoes.csv', sep = ',')\n",
    "df_clinicas = pd.read_csv ('clinicas.csv', sep = ',')\n",
    "df_consultas = pd.read_csv ('consultas.csv', sep = ',')\n",
    "df_medicos = pd.read_csv ('medicos.csv', sep = ',')\n",
    "df_pacientes = pd.read_csv ('pacientes.csv', sep = ',')"
   ]
  },
  {
   "cell_type": "code",
   "execution_count": null,
   "metadata": {},
   "outputs": [],
   "source": [
    "#juntar as especialidades e analisar o tempo médio de espera de atendimento\n",
    "#criar uma nova coluna e fazer a conta de data_hora_agendada,data_hora_inicio\n",
    "#explorar correlações entre tempo de atraso e nota de satisfação\n",
    "\n"
   ]
  },
  {
   "cell_type": "code",
   "execution_count": 5,
   "metadata": {},
   "outputs": [
    {
     "name": "stderr",
     "output_type": "stream",
     "text": [
      "<>:1: SyntaxWarning: list indices must be integers or slices, not str; perhaps you missed a comma?\n",
      "<>:1: SyntaxWarning: list indices must be integers or slices, not str; perhaps you missed a comma?\n",
      "C:\\Users\\36134552025.1\\AppData\\Local\\Temp\\ipykernel_26044\\492590444.py:1: SyntaxWarning: list indices must be integers or slices, not str; perhaps you missed a comma?\n",
      "  medicos_especialidade_tempo = df_medicos.groupby(['tempo_medio_atendimento']['especialidade']).mean().reset_index()\n"
     ]
    },
    {
     "ename": "TypeError",
     "evalue": "list indices must be integers or slices, not str",
     "output_type": "error",
     "traceback": [
      "\u001b[31m---------------------------------------------------------------------------\u001b[39m",
      "\u001b[31mTypeError\u001b[39m                                 Traceback (most recent call last)",
      "\u001b[36mCell\u001b[39m\u001b[36m \u001b[39m\u001b[32mIn[5]\u001b[39m\u001b[32m, line 1\u001b[39m\n\u001b[32m----> \u001b[39m\u001b[32m1\u001b[39m medicos_especialidade_tempo = df_medicos.groupby(\u001b[43m[\u001b[49m\u001b[33;43m'\u001b[39;49m\u001b[33;43mtempo_medio_atendimento\u001b[39;49m\u001b[33;43m'\u001b[39;49m\u001b[43m]\u001b[49m\u001b[43m[\u001b[49m\u001b[33;43m'\u001b[39;49m\u001b[33;43mespecialidade\u001b[39;49m\u001b[33;43m'\u001b[39;49m\u001b[43m]\u001b[49m).mean().reset_index()\n",
      "\u001b[31mTypeError\u001b[39m: list indices must be integers or slices, not str"
     ]
    }
   ],
   "source": [
    "#tempo médio de consulta de atendimento por especialidade\n",
    "#explorar correlações entre tempo de consulta e nota de satisfação\n",
    "#tenho que fazer a relação entre uma coluna string e uma coluna int\n",
    "\n",
    "medicos_especialidade_tempo = df_medicos.groupby(['tempo_medio_atendimento']['especialidade']).mean().reset_index()"
   ]
  },
  {
   "cell_type": "code",
   "execution_count": null,
   "metadata": {},
   "outputs": [],
   "source": []
  }
 ],
 "metadata": {
  "kernelspec": {
   "display_name": "Python 3",
   "language": "python",
   "name": "python3"
  },
  "language_info": {
   "codemirror_mode": {
    "name": "ipython",
    "version": 3
   },
   "file_extension": ".py",
   "mimetype": "text/x-python",
   "name": "python",
   "nbconvert_exporter": "python",
   "pygments_lexer": "ipython3",
   "version": "3.11.4"
  },
  "orig_nbformat": 4
 },
 "nbformat": 4,
 "nbformat_minor": 2
}
