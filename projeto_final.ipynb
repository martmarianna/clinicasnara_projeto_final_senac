{
 "cells": [
  {
   "cell_type": "code",
   "execution_count": 1,
   "metadata": {},
   "outputs": [],
   "source": [
    "import pandas as pd\n",
    "import matplotlib.pyplot as plt\n",
    "import numpy as np"
   ]
  },
  {
   "cell_type": "code",
   "execution_count": 3,
   "metadata": {},
   "outputs": [],
   "source": [
    "df_avaliacoes = pd.read_csv ('avaliacoes.csv', sep = ',')\n",
    "df_clinicas = pd.read_csv ('clinicas.csv', sep = ',')\n",
    "df_consultas = pd.read_csv ('consultas.csv', sep = ',')\n",
    "df_medicos = pd.read_csv ('medicos.csv', sep = ',')\n",
    "df_pacientes = pd.read_csv ('pacientes.csv', sep = ',')"
   ]
  },
  {
   "cell_type": "code",
   "execution_count": null,
   "metadata": {},
   "outputs": [],
   "source": [
    "#juntar as especialidades e analisar o tempo médio de espera de atendimento\n",
    "#criar uma nova coluna tempo_espera e fazer a conta de data_hora_agendada, data_hora_inicio\n",
    "#explorar correlações entre tempo de atraso e nota de satisfação\n",
    "\n"
   ]
  },
  {
   "cell_type": "code",
   "execution_count": null,
   "metadata": {},
   "outputs": [],
   "source": [
    "#clinica que tem o maior tempo de espera, base consultas: id_clinica, tempo_espera"
   ]
  },
  {
   "cell_type": "code",
   "execution_count": null,
   "metadata": {},
   "outputs": [],
   "source": [
    "#medico que tem maior tempo de atraso, base consultas: id_medico, tempo_espera"
   ]
  }
 ],
 "metadata": {
  "kernelspec": {
   "display_name": "Python 3",
   "language": "python",
   "name": "python3"
  },
  "language_info": {
   "codemirror_mode": {
    "name": "ipython",
    "version": 3
   },
   "file_extension": ".py",
   "mimetype": "text/x-python",
   "name": "python",
   "nbconvert_exporter": "python",
   "pygments_lexer": "ipython3",
   "version": "3.11.4"
  },
  "orig_nbformat": 4
 },
 "nbformat": 4,
 "nbformat_minor": 2
}
